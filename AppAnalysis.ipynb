{
 "cells": [
  {
   "cell_type": "markdown",
   "metadata": {
    "collapsed": true
   },
   "source": [
    " # AppleStore and Google Playstore Data Analysis\n",
    " \n",
    "In-app ads are the major source of revenue for developers at Ssylix Technologies LTD as we develop and deploy free apps to our users for download and installation purposes. This analysis will aid in providing healthy information to our developers, ranging from top apps that are likely to attract users using the data provided from the Apple AppStore and the Google PlayStore to improve our development.\n",
    "\n",
    "As of September 2018, there were approximately 2 million iOS apps available on the App Store, and 2.1 million Android apps on Google Play. Our goal for this project is to analyze data from the AppleStore and Google PlayStore to help our developers understand what type of apps are likely to attract more users."
   ]
  },
  {
   "cell_type": "code",
   "execution_count": 1,
   "metadata": {},
   "outputs": [],
   "source": [
    "def open_sets(dataSets):\n",
    "    opened_file = open(dataSets, encoding = 'utf8')\n",
    "    from csv import reader\n",
    "    read_file = reader(opened_file)\n",
    "    app_data = list(read_file)\n",
    "    \n",
    "    return app_data"
   ]
  },
  {
   "cell_type": "code",
   "execution_count": 2,
   "metadata": {},
   "outputs": [],
   "source": [
    "android = open_sets(\"googleplaystore.csv\")\n",
    "android_header = android[0]\n",
    "android = android[1:]\n",
    "ios = open_sets(\"AppleStore.csv\")\n",
    "ios_header = ios[0]\n",
    "ios = ios[1:]"
   ]
  },
  {
   "cell_type": "code",
   "execution_count": 3,
   "metadata": {},
   "outputs": [],
   "source": [
    "def explore_data(dataSets, start, end, rows_and_columns = False): \n",
    "    data = dataSets[start:end]\n",
    "    for rows in data:\n",
    "        print (rows)\n",
    "        print ('\\n')\n",
    "    \n",
    "    if rows_and_columns:\n",
    "        print(\"Number of rows:\", len(dataSets))\n",
    "        print(\"Number of columns:\", len(dataSets[0]))"
   ]
  },
  {
   "cell_type": "markdown",
   "metadata": {},
   "source": [
    "## Delete incorrect rows\n",
    "\n",
    "The function below is made to delete incorrect rows by checking the length of the Ios header or the Android App header against their respective rows.\n",
    "\n",
    "Employing a function approach to simplify and analyze not only the google playstore apps but as well as the apple store app as it searches for incorrect rows by the Data Set passed as an argument to the function.\n",
    "\n",
    "The argument pass may take the data sets of the android apps or the ios apps. \n",
    "Use of the function is depicted below the function and index as well as the row deleted are returned accurately."
   ]
  },
  {
   "cell_type": "code",
   "execution_count": 4,
   "metadata": {},
   "outputs": [],
   "source": [
    "def delete_incorrect_rows(dataSets):\n",
    "    rows_deleted = []\n",
    "    for row in dataSets:\n",
    "        rowlength = len(row)\n",
    "        header_length = len(dataSets[0])\n",
    "        if rowlength != header_length:\n",
    "            rows_deleted.append(dataSets.index(row))\n",
    "            print(row)\n",
    "            del dataSets[dataSets.index(row)]\n",
    "    print(\"Incorrect row(s) deleted:\", rows_deleted)\n",
    "    print(\"\\n\")"
   ]
  },
  {
   "cell_type": "code",
   "execution_count": 5,
   "metadata": {},
   "outputs": [
    {
     "name": "stdout",
     "output_type": "stream",
     "text": [
      "10841 7197\n"
     ]
    }
   ],
   "source": [
    "print(len(android),  len(ios))"
   ]
  },
  {
   "cell_type": "code",
   "execution_count": 6,
   "metadata": {},
   "outputs": [
    {
     "name": "stdout",
     "output_type": "stream",
     "text": [
      "ANDROID DATASETS\n",
      "['App', 'Category', 'Rating', 'Reviews', 'Size', 'Installs', 'Type', 'Price', 'Content Rating', 'Genres', 'Last Updated', 'Current Ver', 'Android Ver']\n",
      "\n",
      "\n",
      "['Life Made WI-Fi Touchscreen Photo Frame', '1.9', '19', '3.0M', '1,000+', 'Free', '0', 'Everyone', '', 'February 11, 2018', '1.0.19', '4.0 and up']\n",
      "Incorrect row(s) deleted: [10472]\n",
      "\n",
      "\n",
      "IOS DATASETS\n",
      "['id', 'track_name', 'size_bytes', 'currency', 'price', 'rating_count_tot', 'rating_count_ver', 'user_rating', 'user_rating_ver', 'ver', 'cont_rating', 'prime_genre', 'sup_devices.num', 'ipadSc_urls.num', 'lang.num', 'vpp_lic']\n",
      "\n",
      "\n",
      "Incorrect row(s) deleted: []\n",
      "\n",
      "\n"
     ]
    }
   ],
   "source": [
    "print(\"Android DataSets\".upper())\n",
    "print(android_header)\n",
    "print(\"\\n\")\n",
    "delete_incorrect_rows(android)\n",
    "\n",
    "print(\"IOS DataSets\".upper())\n",
    "print(ios_header)\n",
    "print(\"\\n\")\n",
    "delete_incorrect_rows(ios)"
   ]
  },
  {
   "cell_type": "code",
   "execution_count": 7,
   "metadata": {},
   "outputs": [
    {
     "name": "stdout",
     "output_type": "stream",
     "text": [
      "10840 7197\n"
     ]
    }
   ],
   "source": [
    "print(len(android),  len(ios))"
   ]
  },
  {
   "cell_type": "markdown",
   "metadata": {},
   "source": [
    "## Duplicate or unique function\n",
    "\n",
    "This takes four arguments\n",
    "* The data set parameter (googleplaystore.csv or AppleStore.csv)\n",
    "* Start parameter for slicing with default at `None`\n",
    "* End parameter to indicate the end of the slice with default also at `None`\n",
    "* Duplicate parameter with default `True` value which returns a list of duplicates if true and a list of unique list if false\n",
    "\n",
    "Below the function is a print statement to show the function use and returned values for unique apps as well as duplicates.\n",
    "\n",
    "The `start` and `end` parameters may be used as analysis to study returned data when printing the full data is not needed"
   ]
  },
  {
   "cell_type": "code",
   "execution_count": 8,
   "metadata": {},
   "outputs": [],
   "source": [
    "def duplicate_or_unique(dataSet, start = None, end = None, duplicate=True):\n",
    "    duplicate_apps = []\n",
    "    unique_apps = []\n",
    "    for app in dataSet:\n",
    "        name = app[0]\n",
    "        duplicate_apps.append(name) if name in unique_apps else unique_apps.append(name)\n",
    "    \n",
    "    if (start and end) is not None:\n",
    "        duplicate_slice = duplicate_apps[start:end]\n",
    "        unique_slice = unique_apps[start:end]\n",
    "    else:\n",
    "        duplicate_slice = duplicate_apps.copy()\n",
    "        unique_slice = unique_apps.copy()\n",
    "        \n",
    "    return duplicate_slice if duplicate else unique_slice\n"
   ]
  },
  {
   "cell_type": "code",
   "execution_count": 9,
   "metadata": {},
   "outputs": [
    {
     "name": "stdout",
     "output_type": "stream",
     "text": [
      "ANDROID\n",
      "['Box', 'Google My Business', 'ZOOM Cloud Meetings']\n",
      "Total rows: 10840\n",
      "Duplicate rows:  1181 , Unique rows:  9659\n",
      "\n",
      "\n",
      "IOS\n",
      "Total rows: 7197\n",
      "Duplicate rows:  0 , Unique rows:  7197\n"
     ]
    }
   ],
   "source": [
    "print (\"ANDROID\")\n",
    "android_duplicates = duplicate_or_unique(android)\n",
    "print(android_duplicates[1:4])\n",
    "android_unique = duplicate_or_unique(android, duplicate = False)\n",
    "print (\"Total rows:\", len(android_duplicates) + len(android_unique))\n",
    "print (\"Duplicate rows: \", len(android_duplicates), \",\", \"Unique rows: \", len(android_unique))\n",
    "\n",
    "print (\"\\n\")\n",
    "print(\"IOS\")\n",
    "ios_duplicates = duplicate_or_unique(ios)\n",
    "ios_unique = duplicate_or_unique(ios, duplicate = False)\n",
    "print (\"Total rows:\", len(ios_duplicates) + len(ios_unique))\n",
    "print (\"Duplicate rows: \", len(ios_duplicates), \",\", \"Unique rows: \", len(ios_unique))"
   ]
  },
  {
   "cell_type": "markdown",
   "metadata": {},
   "source": [
    "## Clean Duplicates function\n",
    "Functions takes in three parameters\n",
    "* Data sets as the first to receive the **googleplaystore.csv** or **AppleStore.csv** data sets\n",
    "* ***Index*** argument to clean the dataset in relation to a specific row in the data set passed as an argument in the above point\n",
    "* `float_` with default argument at `True` to change the index value to a float or not\n",
    "\n",
    "An index of 3 is passed below to signify that we would be cleaning the data in relation to the reviews column with defualt **float_** parameter at `True` and a cleaned reviews-relative list is returned below.\n",
    "\n",
    "We created an empty dictionary and using conditional clauses, add new unique max reviews for duplicate rows in the data sets by updating the dataset if a record is already found to be inputted with the code\n",
    "\n",
    "        ``` if name in data and data[name] < cleanRow: \n",
    "                data[name] = cleanRow\n",
    "            elif name not in data:\n",
    "                data[name] = cleanRow\n",
    "        ```\n",
    "        \n",
    "With cleanRow indicating the float index status of the individual column data sets"
   ]
  },
  {
   "cell_type": "code",
   "execution_count": 10,
   "metadata": {},
   "outputs": [],
   "source": [
    "def cleanDuplicates(dataSets, index, float_ = True):\n",
    "    data = {}\n",
    "    for app in dataSets:\n",
    "        name = app[0]\n",
    "        cleanRow = float(app[index]) if float_ else app[index]\n",
    "        \n",
    "        if name in data and data[name] < cleanRow:\n",
    "            data[name] = cleanRow\n",
    "        elif name not in data:\n",
    "            data[name] = cleanRow\n",
    "            \n",
    "    return data"
   ]
  },
  {
   "cell_type": "code",
   "execution_count": 11,
   "metadata": {},
   "outputs": [
    {
     "name": "stdout",
     "output_type": "stream",
     "text": [
      "9659\n"
     ]
    }
   ],
   "source": [
    "cleanedAndroidDuplicates = cleanDuplicates(android, 3)\n",
    "print(len(cleanedAndroidDuplicates))"
   ]
  },
  {
   "cell_type": "markdown",
   "metadata": {},
   "source": [
    "## The CleanList function \n",
    "\n",
    "The function takes in four parameters\n",
    "* The dataset paramter may take argument from the (**\"googleplaystore.csv or AppleStore.csv\"**) data sets\n",
    "* The index parameter may take the argument of a relative column to be studied\n",
    "* The cleanedDuplicates parameter take the cleaned duplicates and compares it to the data sets passed in the argument as `dataSets`\n",
    "* Final argument `float_` takes a default value of `True` to convert the said column to float values\n",
    "\n",
    "Two List `cleanedList` and `alreadyAdded` are created locally in the function and using a conditional statement the name are checked if they are already added in the `alreadyAdded` list before the full row is then added to the `cleanedList`\n",
    "\n",
    "Both list are returned as Tuples and can be accessed when indexing the returned function call\n",
    "\n",
    "An example of its use is depicted below the function"
   ]
  },
  {
   "cell_type": "code",
   "execution_count": 12,
   "metadata": {},
   "outputs": [],
   "source": [
    "def cleanList(dataSets, index, cleanedDuplicates, float_ = True):\n",
    "    cleanedList = []\n",
    "    alreadyAdded = []\n",
    "    for app in dataSets:\n",
    "        app_name = app[0]\n",
    "        cleanRow = float(app[index]) if float_ else app[index]\n",
    "        \n",
    "        if (cleanedDuplicates[app_name] == cleanRow) and (app_name not in alreadyAdded):\n",
    "            cleanedList.append(app)\n",
    "            alreadyAdded.append(app_name)\n",
    "    \n",
    "    return cleanedList, alreadyAdded"
   ]
  },
  {
   "cell_type": "code",
   "execution_count": 13,
   "metadata": {},
   "outputs": [
    {
     "name": "stdout",
     "output_type": "stream",
     "text": [
      "9659 9659\n"
     ]
    }
   ],
   "source": [
    "androidClean = cleanList(android, 3, cleanedAndroidDuplicates)\n",
    "android_clean = androidClean[0]\n",
    "already_added = androidClean[1]\n",
    "\n",
    "print(len(android_clean), len(already_added))"
   ]
  },
  {
   "cell_type": "markdown",
   "metadata": {},
   "source": [
    "## IsEnglish function \n",
    "\n",
    "The function takes a string argument and using the `ord` python [built-in function](https://docs.python.org/3/library/functions.html#ord) converts the characters to their corresponding Unicode values\n",
    "\n",
    "The english character values falls within 0 and 127 of the Unicode values. Hence, using a conditional if statement we check each character falls within conditioned range of english characters.\n",
    "\n",
    "The ***non_english*** variable in the function is given a default value of zero and increases on each iteration where our condition is not met and finally the value is returned."
   ]
  },
  {
   "cell_type": "code",
   "execution_count": 14,
   "metadata": {},
   "outputs": [],
   "source": [
    "def isEnglish(string):\n",
    "    non_english = 0\n",
    "    for char in string:\n",
    "        character = ord(char)\n",
    "        if character > 127:\n",
    "            non_english += 1\n",
    "    \n",
    "    return non_english"
   ]
  },
  {
   "cell_type": "markdown",
   "metadata": {},
   "source": [
    "## returnEnglishApps function\n",
    "\n",
    "The function takes in two arguments\n",
    "- The ***dataSet*** containing the passed csv data set to be analyzed\n",
    "- The ***nameIndex*** to signify the desired column in which the name of the apps from the dataset rows is to be studied\n",
    "\n",
    "An empty list *englishApps* is created and rows that meets the criteria from the `isEnglish(string)` function above is appended into the englishApps and finally returned to end the function."
   ]
  },
  {
   "cell_type": "code",
   "execution_count": 15,
   "metadata": {},
   "outputs": [],
   "source": [
    "def returnEnglishApps(dataSet, nameIndex):\n",
    "    englishApps = []\n",
    "    for app in dataSet:\n",
    "        name = app[nameIndex]\n",
    "        if not isEnglish(name) > 3:\n",
    "            englishApps.append(app)\n",
    "    \n",
    "    return englishApps"
   ]
  },
  {
   "cell_type": "code",
   "execution_count": 16,
   "metadata": {
    "scrolled": true
   },
   "outputs": [
    {
     "name": "stdout",
     "output_type": "stream",
     "text": [
      "['id', 'track_name', 'size_bytes', 'currency', 'price', 'rating_count_tot', 'rating_count_ver', 'user_rating', 'user_rating_ver', 'ver', 'cont_rating', 'prime_genre', 'sup_devices.num', 'ipadSc_urls.num', 'lang.num', 'vpp_lic']\n",
      "['284882215', 'Facebook', '389879808', 'USD', '0.0', '2974676', '212', '3.5', '3.5', '95.0', '4+', 'Social Networking', '37', '1', '29', '1']\n",
      "\n",
      "\n",
      "['389801252', 'Instagram', '113954816', 'USD', '0.0', '2161558', '1289', '4.5', '4.0', '10.23', '12+', 'Photo & Video', '37', '0', '29', '1']\n",
      "\n",
      "\n",
      "['529479190', 'Clash of Clans', '116476928', 'USD', '0.0', '2130805', '579', '4.5', '4.5', '9.24.12', '9+', 'Games', '38', '5', '18', '1']\n",
      "\n",
      "\n",
      "['420009108', 'Temple Run', '65921024', 'USD', '0.0', '1724546', '3842', '4.5', '4.0', '1.6.2', '9+', 'Games', '40', '5', '1', '1']\n",
      "\n",
      "\n",
      "['284035177', 'Pandora - Music & Radio', '130242560', 'USD', '0.0', '1126879', '3594', '4.0', '4.5', '8.4.1', '12+', 'Music', '37', '4', '1', '1']\n",
      "\n",
      "\n",
      "Number of rows: 6183\n",
      "Number of columns: 16\n"
     ]
    }
   ],
   "source": [
    "android_english = returnEnglishApps(android_clean, 0)\n",
    "ios_english = returnEnglishApps(ios, 1)\n",
    "\n",
    "print(ios_header)\n",
    "explore_data(ios_english, 0, end = 5, rows_and_columns = True)"
   ]
  },
  {
   "cell_type": "markdown",
   "metadata": {},
   "source": [
    "## freeApps function\n",
    "\n",
    "The freeApps function takes three parameters\n",
    "- The dataSet which takes the argument of the cleaned English apps\n",
    "- The price index argument; as Apple and Android index are different for price column\n",
    "- And finally the **android** argument with default `True` value to evaluate using an if and else statement to produce either a `'0'` referring android and `'0.0'` to represent the Apple price column for free index\n",
    "\n",
    "Apps that match are appended to a free variable initiated as an empty list and finally returned t the end of function.\n",
    "\n",
    "Its use to show the len of the apps returned are shown below the function"
   ]
  },
  {
   "cell_type": "code",
   "execution_count": 17,
   "metadata": {},
   "outputs": [],
   "source": [
    "def freeApps(dataSet, index, android = True):\n",
    "    free = []\n",
    "    for app in dataSet:\n",
    "        price = app[index]\n",
    "        value = '0' if android else '0.0'\n",
    "        if price == value:\n",
    "            free.append(app)\n",
    "            \n",
    "    return free"
   ]
  },
  {
   "cell_type": "code",
   "execution_count": 18,
   "metadata": {},
   "outputs": [
    {
     "name": "stdout",
     "output_type": "stream",
     "text": [
      "3222 8864\n"
     ]
    }
   ],
   "source": [
    "free_iosEnglishApps = freeApps(ios_english, 4, False)\n",
    "free_androidEnglishApps = freeApps(android_english, 7)\n",
    "\n",
    "print(len(free_iosEnglishApps), len(free_androidEnglishApps))"
   ]
  },
  {
   "cell_type": "code",
   "execution_count": 19,
   "metadata": {},
   "outputs": [],
   "source": [
    "def frequencyTable(dataSet, index):\n",
    "    table = {}\n",
    "    total = 0\n",
    "    for app in dataSet:\n",
    "        total += 1\n",
    "        value = app[index]\n",
    "        if value in table:\n",
    "            table[value] += 1 \n",
    "        else:\n",
    "            table[value] = 1\n",
    "    \n",
    "    percentage = {}\n",
    "    for key in table:\n",
    "        percentage[key] =  ((table[key] / total) * 100)\n",
    "    \n",
    "    return percentage, table\n",
    "            "
   ]
  },
  {
   "cell_type": "code",
   "execution_count": 20,
   "metadata": {},
   "outputs": [
    {
     "name": "stdout",
     "output_type": "stream",
     "text": [
      "Education;Brain Games\n",
      "Entertainment;Brain Games\n",
      "Casual;Brain Games\n",
      "Puzzle;Brain Games\n",
      "Educational;Brain Games\n",
      "Board;Brain Games\n",
      "Parenting;Brain Games\n",
      "Role Playing;Brain Games\n"
     ]
    }
   ],
   "source": [
    "for game in frequencyTable(free_androidEnglishApps, 9)[0]:\n",
    "    if \"Game\" in game:\n",
    "        print(game)"
   ]
  },
  {
   "cell_type": "code",
   "execution_count": 21,
   "metadata": {},
   "outputs": [],
   "source": [
    "def display_table(dataSet, index = False, percentage = True, fullAnalysis = True):\n",
    "    if fullAnalysis:\n",
    "        table = frequencyTable(dataSet, index)[0] if percentage else frequencyTable(dataSet, index)[1]\n",
    "    else:\n",
    "        table = dataSet\n",
    "        \n",
    "    display = []\n",
    "    for key in table:\n",
    "        display_tuple = (table[key], key)\n",
    "        display.append(display_tuple)\n",
    "    \n",
    "    sort_display = sorted(display, reverse = True)\n",
    "    for entry in sort_display:\n",
    "        print(entry[1], \":\", entry[0])"
   ]
  },
  {
   "cell_type": "code",
   "execution_count": 22,
   "metadata": {},
   "outputs": [
    {
     "name": "stdout",
     "output_type": "stream",
     "text": [
      "APPLE GENRE COLUMN\n",
      "Games : 58.16263190564867\n",
      "Entertainment : 7.883302296710118\n",
      "Photo & Video : 4.9658597144630665\n",
      "Education : 3.662321539416512\n",
      "Social Networking : 3.2898820608317814\n",
      "Shopping : 2.60707635009311\n",
      "Utilities : 2.5139664804469275\n",
      "Sports : 2.1415270018621975\n",
      "Music : 2.0484171322160147\n",
      "Health & Fitness : 2.0173805090006205\n",
      "Productivity : 1.7380509000620732\n",
      "Lifestyle : 1.5828677839851024\n",
      "News : 1.3345747982619491\n",
      "Travel : 1.2414649286157666\n",
      "Finance : 1.1173184357541899\n",
      "Weather : 0.8690254500310366\n",
      "Food & Drink : 0.8069522036002483\n",
      "Reference : 0.5586592178770949\n",
      "Business : 0.5276225946617008\n",
      "Book : 0.4345127250155183\n",
      "Navigation : 0.186219739292365\n",
      "Medical : 0.186219739292365\n",
      "Catalogs : 0.12414649286157665\n",
      "\n",
      "\n",
      "ANDROID GENRE COLUMN\n",
      "Tools : 8.449909747292418\n",
      "Entertainment : 6.069494584837545\n",
      "Education : 5.347472924187725\n",
      "Business : 4.591606498194946\n",
      "Productivity : 3.892148014440433\n",
      "Lifestyle : 3.892148014440433\n",
      "Finance : 3.7003610108303246\n",
      "Medical : 3.531137184115524\n",
      "Sports : 3.463447653429603\n",
      "Personalization : 3.3167870036101084\n",
      "Communication : 3.2378158844765346\n",
      "Action : 3.1024368231046933\n",
      "Health & Fitness : 3.0798736462093865\n",
      "Photography : 2.944494584837545\n",
      "News & Magazines : 2.7978339350180503\n",
      "Social : 2.6624548736462095\n",
      "Travel & Local : 2.3240072202166067\n",
      "Shopping : 2.2450361010830324\n",
      "Books & Reference : 2.1435018050541514\n",
      "Simulation : 2.0419675090252705\n",
      "Dating : 1.861462093862816\n",
      "Arcade : 1.8501805054151623\n",
      "Video Players & Editors : 1.7712093862815883\n",
      "Casual : 1.7599277978339352\n",
      "Maps & Navigation : 1.3989169675090252\n",
      "Food & Drink : 1.2409747292418771\n",
      "Puzzle : 1.128158844765343\n",
      "Racing : 0.9927797833935018\n",
      "Role Playing : 0.9363718411552346\n",
      "Libraries & Demo : 0.9363718411552346\n",
      "Auto & Vehicles : 0.9250902527075812\n",
      "Strategy : 0.9138086642599278\n",
      "House & Home : 0.8235559566787004\n",
      "Weather : 0.8009927797833934\n",
      "Events : 0.7107400722021661\n",
      "Adventure : 0.6768953068592057\n",
      "Comics : 0.6092057761732852\n",
      "Beauty : 0.5979241877256317\n",
      "Art & Design : 0.5979241877256317\n",
      "Parenting : 0.4963898916967509\n",
      "Card : 0.45126353790613716\n",
      "Casino : 0.42870036101083037\n",
      "Trivia : 0.41741877256317694\n",
      "Educational;Education : 0.39485559566787\n",
      "Board : 0.3835740072202166\n",
      "Educational : 0.3722924187725632\n",
      "Education;Education : 0.33844765342960287\n",
      "Word : 0.2594765342960289\n",
      "Casual;Pretend Play : 0.236913357400722\n",
      "Music : 0.2030685920577617\n",
      "Racing;Action & Adventure : 0.16922382671480143\n",
      "Puzzle;Brain Games : 0.16922382671480143\n",
      "Entertainment;Music & Video : 0.16922382671480143\n",
      "Casual;Brain Games : 0.13537906137184114\n",
      "Casual;Action & Adventure : 0.13537906137184114\n",
      "Arcade;Action & Adventure : 0.12409747292418773\n",
      "Action;Action & Adventure : 0.10153429602888085\n",
      "Educational;Pretend Play : 0.09025270758122744\n",
      "Simulation;Action & Adventure : 0.078971119133574\n",
      "Parenting;Education : 0.078971119133574\n",
      "Entertainment;Brain Games : 0.078971119133574\n",
      "Board;Brain Games : 0.078971119133574\n",
      "Parenting;Music & Video : 0.06768953068592057\n",
      "Educational;Brain Games : 0.06768953068592057\n",
      "Casual;Creativity : 0.06768953068592057\n",
      "Art & Design;Creativity : 0.06768953068592057\n",
      "Education;Pretend Play : 0.056407942238267145\n",
      "Role Playing;Pretend Play : 0.04512635379061372\n",
      "Education;Creativity : 0.04512635379061372\n",
      "Role Playing;Action & Adventure : 0.033844765342960284\n",
      "Puzzle;Action & Adventure : 0.033844765342960284\n",
      "Entertainment;Creativity : 0.033844765342960284\n",
      "Entertainment;Action & Adventure : 0.033844765342960284\n",
      "Educational;Creativity : 0.033844765342960284\n",
      "Educational;Action & Adventure : 0.033844765342960284\n",
      "Education;Music & Video : 0.033844765342960284\n",
      "Education;Brain Games : 0.033844765342960284\n",
      "Education;Action & Adventure : 0.033844765342960284\n",
      "Adventure;Action & Adventure : 0.033844765342960284\n",
      "Video Players & Editors;Music & Video : 0.02256317689530686\n",
      "Sports;Action & Adventure : 0.02256317689530686\n",
      "Simulation;Pretend Play : 0.02256317689530686\n",
      "Puzzle;Creativity : 0.02256317689530686\n",
      "Music;Music & Video : 0.02256317689530686\n",
      "Entertainment;Pretend Play : 0.02256317689530686\n",
      "Casual;Education : 0.02256317689530686\n",
      "Board;Action & Adventure : 0.02256317689530686\n",
      "Video Players & Editors;Creativity : 0.01128158844765343\n",
      "Trivia;Education : 0.01128158844765343\n",
      "Travel & Local;Action & Adventure : 0.01128158844765343\n",
      "Tools;Education : 0.01128158844765343\n",
      "Strategy;Education : 0.01128158844765343\n",
      "Strategy;Creativity : 0.01128158844765343\n",
      "Strategy;Action & Adventure : 0.01128158844765343\n",
      "Simulation;Education : 0.01128158844765343\n",
      "Role Playing;Brain Games : 0.01128158844765343\n",
      "Racing;Pretend Play : 0.01128158844765343\n",
      "Puzzle;Education : 0.01128158844765343\n",
      "Parenting;Brain Games : 0.01128158844765343\n",
      "Music & Audio;Music & Video : 0.01128158844765343\n",
      "Lifestyle;Pretend Play : 0.01128158844765343\n",
      "Lifestyle;Education : 0.01128158844765343\n",
      "Health & Fitness;Education : 0.01128158844765343\n",
      "Health & Fitness;Action & Adventure : 0.01128158844765343\n",
      "Entertainment;Education : 0.01128158844765343\n",
      "Communication;Creativity : 0.01128158844765343\n",
      "Comics;Creativity : 0.01128158844765343\n",
      "Casual;Music & Video : 0.01128158844765343\n",
      "Card;Action & Adventure : 0.01128158844765343\n",
      "Books & Reference;Education : 0.01128158844765343\n",
      "Art & Design;Pretend Play : 0.01128158844765343\n",
      "Art & Design;Action & Adventure : 0.01128158844765343\n",
      "Arcade;Pretend Play : 0.01128158844765343\n",
      "Adventure;Education : 0.01128158844765343\n",
      "\n",
      "\n",
      "ANDROID CATEGORY COLUMN\n",
      "FAMILY : 1676\n",
      "GAME : 862\n",
      "TOOLS : 750\n",
      "BUSINESS : 407\n",
      "LIFESTYLE : 346\n",
      "PRODUCTIVITY : 345\n",
      "FINANCE : 328\n",
      "MEDICAL : 313\n",
      "SPORTS : 301\n",
      "PERSONALIZATION : 294\n",
      "COMMUNICATION : 287\n",
      "HEALTH_AND_FITNESS : 273\n",
      "PHOTOGRAPHY : 261\n",
      "NEWS_AND_MAGAZINES : 248\n",
      "SOCIAL : 236\n",
      "TRAVEL_AND_LOCAL : 207\n",
      "SHOPPING : 199\n",
      "BOOKS_AND_REFERENCE : 190\n",
      "DATING : 165\n",
      "VIDEO_PLAYERS : 159\n",
      "MAPS_AND_NAVIGATION : 124\n",
      "FOOD_AND_DRINK : 110\n",
      "EDUCATION : 103\n",
      "ENTERTAINMENT : 85\n",
      "LIBRARIES_AND_DEMO : 83\n",
      "AUTO_AND_VEHICLES : 82\n",
      "HOUSE_AND_HOME : 73\n",
      "WEATHER : 71\n",
      "EVENTS : 63\n",
      "PARENTING : 58\n",
      "ART_AND_DESIGN : 57\n",
      "COMICS : 55\n",
      "BEAUTY : 53\n"
     ]
    }
   ],
   "source": [
    "print(\"apple Genre column\".upper())\n",
    "ios_genre = display_table(free_iosEnglishApps, -5, 1)\n",
    "print(\"\\n\")\n",
    "\n",
    "print(\"android Genre column\".upper())\n",
    "android_genre = display_table(free_androidEnglishApps, 9, 1)\n",
    "print(\"\\n\")\n",
    "\n",
    "print(\"android category column\".upper())\n",
    "android_category = display_table(free_androidEnglishApps, 1, 0)"
   ]
  },
  {
   "cell_type": "code",
   "execution_count": 23,
   "metadata": {},
   "outputs": [],
   "source": [
    "def appGenre(dataSet, genreIndex, installIndex, android = False):\n",
    "    app_genre = frequencyTable(dataSet, genreIndex)[0]\n",
    "    \"\"\"\n",
    "    Alternatively \n",
    "    Step 1: len_of_genre = frequencyTable(dataSet, genreIndex)[1]\n",
    "    \"\"\"\n",
    "    data = {}\n",
    "    for genre in app_genre:\n",
    "        total_user_installs = 0\n",
    "        len_genre = 0\n",
    "        for app in dataSet:\n",
    "            genre_app = app[genreIndex]\n",
    "            if genre_app == genre:\n",
    "                if android: \n",
    "                    ins = app[installIndex]  \n",
    "                    ins = ins.replace(\",\",\"\")\n",
    "                    ins = ins.replace(\"+\",\"\")\n",
    "                installs = float(ins) if android else float(app[installIndex])\n",
    "                total_user_installs += installs\n",
    "                len_genre += 1\n",
    "                \"\"\"\n",
    "                Alternative Step 2:\n",
    "                if genre in len_of_genre:\n",
    "                    len_genre = len_of_genre[genre]\n",
    "                \"\"\"\n",
    "        \n",
    "        average_rating = (total_user_installs / len_genre)\n",
    "        data[genre] = average_rating\n",
    "     \n",
    "    # To sort the values we pass it through the display_table function\n",
    "    return display_table(data, fullAnalysis = False)"
   ]
  },
  {
   "cell_type": "code",
   "execution_count": 24,
   "metadata": {},
   "outputs": [],
   "source": [
    "def checkGenre(dataSet, genre, genreIndex, nameIndex, installIndex):\n",
    "    for app in dataSet:\n",
    "        if app[genreIndex] == genre:\n",
    "            print(app[nameIndex], \":\", app[installIndex])"
   ]
  },
  {
   "cell_type": "code",
   "execution_count": 27,
   "metadata": {},
   "outputs": [
    {
     "name": "stdout",
     "output_type": "stream",
     "text": [
      "Communication : 38456119.167247385\n",
      "Adventure;Action & Adventure : 35333333.333333336\n",
      "Video Players & Editors : 24947335.796178345\n",
      "Social : 23253652.127118643\n",
      "Arcade : 22888365.48780488\n",
      "Casual : 19569221.602564104\n",
      "Puzzle;Action & Adventure : 18366666.666666668\n",
      "Photography : 17840110.40229885\n",
      "Educational;Action & Adventure : 17016666.666666668\n",
      "Productivity : 16787331.344927534\n",
      "Racing : 15910645.681818182\n",
      "Travel & Local : 14051476.145631067\n",
      "Casual;Action & Adventure : 12916666.666666666\n",
      "Action : 12603588.872727273\n",
      "Strategy : 11199902.530864198\n",
      "Tools : 10802461.246995995\n",
      "Tools;Education : 10000000.0\n",
      "Role Playing;Brain Games : 10000000.0\n",
      "Lifestyle;Pretend Play : 10000000.0\n",
      "Casual;Music & Video : 10000000.0\n",
      "Card;Action & Adventure : 10000000.0\n",
      "Adventure;Education : 10000000.0\n",
      "News & Magazines : 9549178.467741935\n",
      "Music : 9445583.333333334\n",
      "Educational;Pretend Play : 9375000.0\n",
      "Puzzle;Brain Games : 9280666.666666666\n",
      "Word : 9094458.695652174\n",
      "Racing;Action & Adventure : 8816666.666666666\n",
      "Books & Reference : 8767811.894736841\n",
      "Puzzle : 8302861.91\n",
      "Video Players & Editors;Music & Video : 7500000.0\n",
      "Shopping : 7036877.311557789\n",
      "Role Playing;Action & Adventure : 7000000.0\n",
      "Casual;Pretend Play : 6957142.857142857\n",
      "Entertainment;Music & Video : 6413333.333333333\n",
      "Action;Action & Adventure : 5888888.888888889\n",
      "Entertainment : 5602792.775092937\n",
      "Education;Brain Games : 5333333.333333333\n",
      "Casual;Creativity : 5333333.333333333\n",
      "Role Playing;Pretend Play : 5275000.0\n",
      "Personalization : 5201482.6122448975\n",
      "Weather : 5074486.197183099\n",
      "Sports;Action & Adventure : 5050000.0\n",
      "Music;Music & Video : 5050000.0\n",
      "Video Players & Editors;Creativity : 5000000.0\n",
      "Adventure : 4922785.333333333\n",
      "Simulation;Action & Adventure : 4857142.857142857\n",
      "Education;Education : 4759517.0\n",
      "Board : 4759209.117647059\n",
      "Sports : 4596842.615635179\n",
      "Educational;Brain Games : 4433333.333333333\n",
      "Health & Fitness : 4188821.9853479853\n",
      "Maps & Navigation : 4056941.7741935486\n",
      "Entertainment;Creativity : 4000000.0\n",
      "Role Playing : 3965645.421686747\n",
      "Card : 3815462.5\n",
      "Trivia : 3475712.7027027025\n",
      "Simulation : 3475484.08839779\n",
      "Casino : 3427910.5263157897\n",
      "Entertainment;Brain Games : 3314285.714285714\n",
      "Arcade;Action & Adventure : 3190909.1818181816\n",
      "Entertainment;Pretend Play : 3000000.0\n",
      "Board;Action & Adventure : 3000000.0\n",
      "Education;Creativity : 2875000.0\n",
      "Entertainment;Action & Adventure : 2333333.3333333335\n",
      "Educational;Creativity : 2333333.3333333335\n",
      "Art & Design : 2122850.9433962265\n",
      "Education;Music & Video : 2033333.3333333333\n",
      "Food & Drink : 1924897.7363636363\n",
      "Education;Pretend Play : 1800000.0\n",
      "Educational;Education : 1737143.142857143\n",
      "Business : 1712290.1474201474\n",
      "Casual;Brain Games : 1425916.6666666667\n",
      "Lifestyle : 1412998.3449275363\n",
      "Finance : 1387692.475609756\n",
      "House & Home : 1331540.5616438356\n",
      "Parenting;Music & Video : 1118333.3333333333\n",
      "Strategy;Creativity : 1000000.0\n",
      "Strategy;Action & Adventure : 1000000.0\n",
      "Racing;Pretend Play : 1000000.0\n",
      "Parenting;Brain Games : 1000000.0\n",
      "Health & Fitness;Action & Adventure : 1000000.0\n",
      "Entertainment;Education : 1000000.0\n",
      "Education;Action & Adventure : 1000000.0\n",
      "Casual;Education : 1000000.0\n",
      "Arcade;Pretend Play : 1000000.0\n",
      "Dating : 854028.8303030303\n",
      "Comics : 831873.1481481482\n",
      "Puzzle;Creativity : 750000.0\n",
      "Auto & Vehicles : 647317.8170731707\n",
      "Libraries & Demo : 638503.734939759\n",
      "Education : 550185.4430379746\n",
      "Simulation;Pretend Play : 550000.0\n",
      "Beauty : 513151.88679245283\n",
      "Strategy;Education : 500000.0\n",
      "Music & Audio;Music & Video : 500000.0\n",
      "Communication;Creativity : 500000.0\n",
      "Art & Design;Pretend Play : 500000.0\n",
      "Parenting : 467977.5\n",
      "Parenting;Education : 452857.14285714284\n",
      "Educational : 411184.8484848485\n",
      "Board;Brain Games : 407142.85714285716\n",
      "Art & Design;Creativity : 285000.0\n",
      "Events : 253542.22222222222\n",
      "Medical : 120550.61980830671\n",
      "Travel & Local;Action & Adventure : 100000.0\n",
      "Puzzle;Education : 100000.0\n",
      "Lifestyle;Education : 100000.0\n",
      "Health & Fitness;Education : 100000.0\n",
      "Art & Design;Action & Adventure : 100000.0\n",
      "Comics;Creativity : 50000.0\n",
      "Books & Reference;Education : 1000.0\n",
      "Simulation;Education : 500.0\n",
      "Trivia;Education : 100.0\n"
     ]
    }
   ],
   "source": [
    "appGenre(free_androidEnglishApps, 9, 5, True)"
   ]
  }
 ],
 "metadata": {
  "kernelspec": {
   "display_name": "Python 3",
   "language": "python",
   "name": "python3"
  },
  "language_info": {
   "codemirror_mode": {
    "name": "ipython",
    "version": 3
   },
   "file_extension": ".py",
   "mimetype": "text/x-python",
   "name": "python",
   "nbconvert_exporter": "python",
   "pygments_lexer": "ipython3",
   "version": "3.7.3"
  }
 },
 "nbformat": 4,
 "nbformat_minor": 2
}
